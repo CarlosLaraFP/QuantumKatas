{
 "cells": [
  {
   "cell_type": "markdown",
   "metadata": {},
   "source": [
    "# Phase Estimation\n",
    "\n",
    "The **\"Phase Estimation\"** quantum kata is a series of exercises designed\n",
    "to teach you the basics of using phase estimation algorithms.\n",
    "\n",
    "It covers the following topics:\n",
    "* quantum phase estimation,\n",
    "* iterative phase estimation,\n",
    "* preparing necessary inputs to phase estimation routines and applying them.\n",
    "\n",
    "Each task is wrapped in one operation preceded by the description of the task.\n",
    "Your goal is to fill in the blank (marked with the `// ...` comments)\n",
    "with some Q# code that solves the task. To verify your answer, run the cell using Ctrl+Enter (⌘+Enter on macOS).\n",
    "\n",
    "Within each section, tasks are given in approximate order of increasing difficulty; \n",
    "harder ones are marked with asterisks."
   ]
  },
  {
   "cell_type": "markdown",
   "metadata": {},
   "source": [
    "## Part I. Quantum Phase Estimation (QPE)"
   ]
  },
  {
   "cell_type": "markdown",
   "metadata": {},
   "source": [
    "### Task 1.1. Inputs to QPE: eigenstates of Z/S/T gates.\n",
    "\n",
    "**Inputs:** \n",
    "\n",
    "  1. A qubit in the $|0\\rangle$ state.\n",
    "\n",
    "  2. An integer `state` indicating which eigenstate to prepare.\n",
    "\n",
    "**Goal:** \n",
    "\n",
    "Prepare one of the eigenstates of Z gate (which are the same as eigenstates of S or T gates): \n",
    "eigenstate $|0\\rangle$ if `state = 0`, or eigenstate $|1\\rangle$ if `state = 1`."
   ]
  },
  {
   "cell_type": "code",
   "execution_count": 1,
   "metadata": {},
   "outputs": [
    {
     "data": {
      "application/x-qsharp-data": "\"Success!\"",
      "text/plain": [
       "Success!"
      ]
     },
     "execution_count": 1,
     "metadata": {
      "application/x-qsharp-data": {},
      "text/plain": {}
     },
     "output_type": "execute_result"
    }
   ],
   "source": [
    "%kata T11_Eigenstates_ZST \n",
    "\n",
    "operation Eigenstates_ZST (q : Qubit, state : Int) : Unit is Adj {\n",
    "    // [Pauli] Z (computational) basis single-qubit eigenstates are 0 and 1.\n",
    "    if (state == 1) { X(q); }\n",
    "}"
   ]
  },
  {
   "cell_type": "markdown",
   "metadata": {},
   "source": [
    "### Task 1.2. Inputs to QPE: powers of Z/S/T gates.\n",
    "\n",
    "**Inputs:** \n",
    "\n",
    "  1. A single-qubit unitary U.\n",
    "\n",
    "  2. A positive integer `power`.\n",
    "\n",
    "**Output:** \n",
    "\n",
    "A single-qubit unitary equal to U raised to the given power.\n",
    "\n",
    "<br/>\n",
    "<details>\n",
    "  <summary><b>Need a hint? Click here</b></summary>\n",
    "  Remember that you can define auxiliary operations. To do that, you'll need to create an extra code cell for each new operation and execute it before returning to this cell. \n",
    "</details>"
   ]
  },
  {
   "cell_type": "code",
   "execution_count": 12,
   "metadata": {},
   "outputs": [
    {
     "data": {
      "application/x-qsharp-data": "\"Success!\"",
      "text/plain": [
       "Success!"
      ]
     },
     "execution_count": 12,
     "metadata": {
      "application/x-qsharp-data": {},
      "text/plain": {}
     },
     "output_type": "execute_result"
    }
   ],
   "source": [
    "%kata T12_UnitaryPower \n",
    "\n",
    "function UnitaryPower (U : (Qubit => Unit is Adj + Ctl), power : Int) : (Qubit => Unit is Adj + Ctl) {\n",
    "    //\n",
    "    return OperationPowCA<Qubit>(U, power);\n",
    "}"
   ]
  },
  {
   "cell_type": "markdown",
   "metadata": {},
   "source": [
    "### Task 1.3. Validate inputs to QPE.\n",
    "\n",
    "<span style=\"color:red\"><b>This task is temporarily not available in Notebook format; please use Q# project version of the PhaseEstimation kata to complete it.</b></span>\n",
    "\n",
    "**Inputs:**\n",
    "\n",
    "  1. A single-qubit unitary U.\n",
    "\n",
    "  2. A single-qubit state $|\\psi\\rangle$ represented by a unitary P such that $|\\psi\\rangle = P|0\\rangle$\n",
    "(i.e., applying the unitary P to state $|0\\rangle$ prepares state $|\\psi\\rangle$).\n",
    "\n",
    "**Goal:** \n",
    "\n",
    "Assert that the given state is an eigenstate of the given unitary, \n",
    "i.e., do nothing if it is, and throw an exception if it is not."
   ]
  },
  {
   "cell_type": "code",
   "execution_count": null,
   "metadata": {},
   "outputs": [],
   "source": [
    "operation AssertIsEigenstate (U : (Qubit => Unit), P : (Qubit => Unit is Adj)) : Unit {\n",
    "    use q = Qubit();\n",
    "    // Prepare the state |ψ⟩\n",
    "    P(q);\n",
    "    // Apply the given unitary\n",
    "    U(q);\n",
    "    // If the given state is an eigenstate, the current state of the qubit should be |ψ⟩ (up to a global phase).\n",
    "    // So un-preparing it should bring the state back to |0⟩\n",
    "    Adjoint P(q);\n",
    "    AssertQubit(Zero, q);\n",
    "}"
   ]
  },
  {
   "cell_type": "code",
   "execution_count": null,
   "metadata": {},
   "outputs": [],
   "source": [
    "%simulate AssertIsEigenstate "
   ]
  },
  {
   "cell_type": "markdown",
   "metadata": {},
   "source": [
    "***\n",
    "In general, a unitary operator has more than 2 eigenvectors.\n",
    "\n",
    "Two-qubit operators have 4 eigenvectors. In the Fourier basis, each has a phase.\n",
    "\n",
    "Each eigenvector is a superposition of single-qubit computational basis states,\n",
    "acted on by a phase shift matrix (Z, S, T) a variable number of times.\n",
    "\n",
    "Therefore, in the Fourier basis, each component is an eigenstate of powers of a phase shift operator.\n",
    "\n",
    "***"
   ]
  },
  {
   "cell_type": "markdown",
   "metadata": {},
   "source": [
    "### Task 1.4. QPE for single-qubit unitaries.\n",
    "\n",
    "**Inputs:** \n",
    "\n",
    "  1. A single-qubit unitary U.\n",
    "\n",
    "  2. A single-qubit state $|\\psi\\rangle$ represented by a unitary P such that $|\\psi\\rangle = P|0\\rangle$\n",
    "(i.e., applying the unitary P to state $|0\\rangle$ prepares state $|\\psi\\rangle$).\n",
    "\n",
    "  3. An integer `n`.\n",
    "\n",
    "**Output:**\n",
    "\n",
    "The phase of the eigenvalue that corresponds to the eigenstate $|\\psi\\rangle$, with `n` bits of precision.\n",
    "The phase should be between 0.0 and 1.0."
   ]
  },
  {
   "cell_type": "code",
   "execution_count": 11,
   "metadata": {},
   "outputs": [
    {
     "data": {
      "application/x-qsharp-data": "[\"PowerOracle\"]",
      "text/html": [
       "<ul><li>PowerOracle</li></ul>"
      ],
      "text/plain": [
       "PowerOracle"
      ]
     },
     "execution_count": 11,
     "metadata": {
      "application/x-qsharp-data": {},
      "text/html": {},
      "text/plain": {}
     },
     "output_type": "execute_result"
    }
   ],
   "source": [
    "operation PowerOracle (U : (Qubit => Unit is Adj + Ctl), power : Int, target : Qubit[]) : Unit is Adj + Ctl {\n",
    "    //\n",
    "    RepeatCA(U(_), power, target[0]);\n",
    "}"
   ]
  },
  {
   "cell_type": "code",
   "execution_count": 16,
   "metadata": {},
   "outputs": [
    {
     "data": {
      "application/x-qsharp-data": "\"Success!\"",
      "text/plain": [
       "Success!"
      ]
     },
     "execution_count": 16,
     "metadata": {
      "application/x-qsharp-data": {},
      "text/plain": {}
     },
     "output_type": "execute_result"
    }
   ],
   "source": [
    "%kata T14_QPE \n",
    "\n",
    "open Microsoft.Quantum.Arithmetic;\n",
    "open Microsoft.Quantum.Convert;\n",
    "open Microsoft.Quantum.Oracles;\n",
    "open Microsoft.Quantum.Characterization;\n",
    "\n",
    "operation QPE (U : (Qubit => Unit is Adj + Ctl), P : (Qubit => Unit is Adj), n : Int) : Double {\n",
    "    // Construct a phase estimation oracle from the unitary\n",
    "    let oracle = DiscreteOracle(PowerOracle(U, _, _));\n",
    "    // Allocate qubits to hold the eigenstate of U and the phase in a big endian register \n",
    "    use (eigenstate, phaseRegister) = (Qubit[1], Qubit[n]);\n",
    "    let phaseRegisterBE = BigEndian(phaseRegister);\n",
    "    // Prepare the eigenstate of U\n",
    "    P(eigenstate[0]);\n",
    "    // Call library\n",
    "    QuantumPhaseEstimation(oracle, eigenstate, phaseRegisterBE);\n",
    "    // Read out the phase\n",
    "    let phase = IntAsDouble(MeasureInteger(BigEndianAsLittleEndian(phaseRegisterBE))) / IntAsDouble(1 <<< n);\n",
    "\n",
    "    ResetAll(eigenstate);\n",
    "    return phase;\n",
    "}"
   ]
  },
  {
   "cell_type": "code",
   "execution_count": 70,
   "metadata": {},
   "outputs": [
    {
     "data": {
      "application/x-qsharp-data": "\"Success!\"",
      "text/plain": [
       "Success!"
      ]
     },
     "execution_count": 70,
     "metadata": {
      "application/x-qsharp-data": {},
      "text/plain": {}
     },
     "output_type": "execute_result"
    }
   ],
   "source": [
    "%kata T14_QPE \n",
    "\n",
    "open Microsoft.Quantum.Arrays;\n",
    "open Microsoft.Quantum.Math;\n",
    "\n",
    "operation QPE (U : (Qubit => Unit is Adj + Ctl), P : (Qubit => Unit is Adj), n : Int) : Double {\n",
    "    // Wikipedia\n",
    "    use (phaseRegister, eigenstate) = (Qubit[n], Qubit());\n",
    "    // Prepare the eigenstate of U\n",
    "    P(eigenstate);\n",
    "    // Put phaseRegister into a uniform superposition of all computational basis states.\n",
    "    ApplyToEachCA(H, phaseRegister);\n",
    "    // The phase theta is encoded as a number between 0 and 2^n in the Fourier basis!\n",
    "    for i in IndexRange(phaseRegister) {\n",
    "        // U^(2ⁱ) because 1 <<< i multiplies 1 by 2^i\n",
    "        let PowerU = OperationPowCA<Qubit>(U, PowI(2, i));\n",
    "        Controlled PowerU([phaseRegister[i]], eigenstate);\n",
    "    }\n",
    "    // This leaves phaseRegister in a superposition of integers which are close to θ*2^n.\n",
    "    // See the linked Wikipedia article on the details of this superposition.\n",
    "    Adjoint QFTLE(LittleEndian(phaseRegister));\n",
    "    // Measure out an integer that is close to θ*2^n.\n",
    "    let phaseMeasurement = MeasureInteger(LittleEndian(phaseRegister));\n",
    "    // MeasureInteger automatically resets its register\n",
    "    Reset(eigenstate);\n",
    "    // Scale our measurement down to [0, 1) and return our estimate.\n",
    "    return IntAsDouble(phaseMeasurement) / IntAsDouble(1 <<< n);\n",
    "}"
   ]
  },
  {
   "cell_type": "markdown",
   "metadata": {},
   "source": [
    "### Task 1.5. Test your QPE implementation.\n",
    "\n",
    "**Goal:**\n",
    "Use your QPE implementation from task 1.4 to run quantum phase estimation \n",
    "on several simple unitaries and their eigenstates.\n",
    "This task is not covered by a test and allows you to experiment with running the algorithm.\n",
    "\n",
    "> This is an open-ended task, and is not covered by a unit test. To run the code, execute the cell with the definition of the `Run_QPE` operation first; if it compiled successfully without any errors, you can run the operation by executing the next cell (`%simulate Run_QPE`)."
   ]
  },
  {
   "cell_type": "code",
   "execution_count": 48,
   "metadata": {},
   "outputs": [
    {
     "data": {
      "application/x-qsharp-data": "[\"ApplyTwoGates\"]",
      "text/html": [
       "<ul><li>ApplyTwoGates</li></ul>"
      ],
      "text/plain": [
       "ApplyTwoGates"
      ]
     },
     "execution_count": 48,
     "metadata": {
      "application/x-qsharp-data": {},
      "text/html": {},
      "text/plain": {}
     },
     "output_type": "execute_result"
    }
   ],
   "source": [
    "operation ApplyTwoGates(A : (Qubit) => Unit is Adj + Ctl, B : (Qubit) => Unit is Adj + Ctl, q : Qubit) : Unit is Adj + Ctl {\n",
    "    //\n",
    "    A(q);\n",
    "    B(q);\n",
    "}"
   ]
  },
  {
   "cell_type": "code",
   "execution_count": 71,
   "metadata": {},
   "outputs": [
    {
     "data": {
      "application/x-qsharp-data": "[\"Run_QPE\"]",
      "text/html": [
       "<ul><li>Run_QPE</li></ul>"
      ],
      "text/plain": [
       "Run_QPE"
      ]
     },
     "execution_count": 71,
     "metadata": {
      "application/x-qsharp-data": {},
      "text/html": {},
      "text/plain": {}
     },
     "output_type": "execute_result"
    }
   ],
   "source": [
    "open Microsoft.Quantum.Diagnostics;\n",
    "\n",
    "operation Run_QPE () : Unit {\n",
    "    //\n",
    "    Fact(QPE(Z, X, 1) == 0.5, $\"Phase estimate did not equal 0.5\");\n",
    "    Fact(QPE(Z, Z, 1) == 0.0, \"Phase estimate did not equal 0.0\");\n",
    "    Fact(QPE(S, X, 2) == 0.25, \"Phase estimate did not equal 0.25\");\n",
    "    Fact(QPE(T, X, 3) == 0.125, \"Phase estimate did not equal 0.125\");\n",
    "    Fact(QPE(X, H, 1) == 0.0, \"Phase estimate did not equal 0.0\");\n",
    "    Fact(QPE(X, ApplyTwoGates(X, H, _), 1) == 0.5, \"Phase estimate did not equal 0.5\");\n",
    "    Fact(QPE(Y, ApplyTwoGates(H, S, _), 1) == 0.0, \"Phase estimate did not equal 0.0\");\n",
    "    //Fact(QPE(X, ApplyTwoGates(H, Y, _), 2) == 0.75, \"Phase estimate did not equal 0.75\");\n",
    "}"
   ]
  },
  {
   "cell_type": "code",
   "execution_count": 72,
   "metadata": {},
   "outputs": [
    {
     "data": {
      "application/x-qsharp-data": "{\"@type\":\"tuple\"}",
      "text/plain": [
       "()"
      ]
     },
     "execution_count": 72,
     "metadata": {
      "application/x-qsharp-data": {},
      "text/plain": {}
     },
     "output_type": "execute_result"
    }
   ],
   "source": [
    "%simulate Run_QPE"
   ]
  },
  {
   "cell_type": "markdown",
   "metadata": {},
   "source": [
    "## Part II. Iterative Phase Estimation\n",
    "\n",
    "Unlike quantum phase estimation, which is a single algorithm, \n",
    "iterative phase estimation is a whole class of algorithms based on the same idea:\n",
    "treating phase estimation as a classical algorithm which learns the phase via a sequence of measurements\n",
    "(the measurement performed on each iteration can depend on the outcomes of previous iterations).\n",
    "\n",
    "A typical circuit for one iteration has the following structure:\n",
    "\n",
    "![Iterative Phase Estimation Circuit Diagram](./img/IPE_Circuit.PNG)\n",
    "\n",
    "($\\psi$ is the procedure to prepare the eigenstate $|\\psi\\rangle$, R is a rotation gate, and M is a power of the unitary U;\n",
    "both depend on the current information about the phase).\n",
    "\n",
    "The result of the measurement performed on the top qubit defines the next iteration."
   ]
  },
  {
   "cell_type": "markdown",
   "metadata": {},
   "source": [
    "### Task 2.1. Single-bit phase estimation.\n",
    "\n",
    "**Inputs:** \n",
    "\n",
    "  1. A single-qubit unitary U that is guaranteed to have an eigenvalue $+1$ or $-1$ \n",
    "(with eigenphases $0.0$ or $0.5$, respectively).\n",
    "\n",
    "  2. A single-qubit state $|\\psi\\rangle$ represented by a unitary P such that $|\\psi\\rangle = P|0\\rangle$\n",
    "(i.e., applying the unitary P to state $|0\\rangle$ prepares state $|\\psi\\rangle$).\n",
    "\n",
    "**Output:** \n",
    "\n",
    "The eigenvalue which corresponds to the eigenstate $|\\psi\\rangle$ ($+1$ or $-1$).\n",
    "\n",
    "You are allowed to allocate exactly two qubits and call `Controlled U` exactly once.\n",
    "\n",
    "> It is possible to use the QPE implementation from task 1.4 to solve this task,\n",
    "  but we suggest you implement the circuit by hand for the sake of learning."
   ]
  },
  {
   "cell_type": "code",
   "execution_count": 74,
   "metadata": {},
   "outputs": [
    {
     "data": {
      "application/x-qsharp-data": "\"Success!\"",
      "text/plain": [
       "Success!"
      ]
     },
     "execution_count": 74,
     "metadata": {
      "application/x-qsharp-data": {},
      "text/plain": {}
     },
     "output_type": "execute_result"
    }
   ],
   "source": [
    "%kata T21_SingleBitPE \n",
    "\n",
    "open Microsoft.Quantum.Measurement;\n",
    "\n",
    "operation SingleBitPE (U : (Qubit => Unit is Adj + Ctl), P : (Qubit => Unit is Adj)) : Int {\n",
    "    // U = Z\n",
    "    use (control, eigenstate) = (Qubit(), Qubit());\n",
    "    P(eigenstate);\n",
    "    H(control);\n",
    "    Controlled U([control], eigenstate);\n",
    "    Reset(eigenstate);\n",
    "    return MResetX(control) == Zero ? 1 | -1;\n",
    "}"
   ]
  },
  {
   "cell_type": "markdown",
   "metadata": {},
   "source": [
    "### Task 2.2. Two bit phase estimation.\n",
    "\n",
    "**Inputs:**\n",
    "\n",
    "  1. A single-qubit unitary U that is guaranteed to have an eigenvalue $+1$, $i$, $-1$ or $-i$\n",
    "(with eigenphases $0.0$, $0.25$, $0.5$ or $0.75$, respectively).\n",
    "\n",
    "  2. A single-qubit state $|\\psi\\rangle$ represented by a unitary P such that $|\\psi\\rangle = P|0\\rangle$\n",
    "(i.e., applying the unitary P to state $|0\\rangle$ prepares state $|\\psi\\rangle$).\n",
    "\n",
    "**Output:**\n",
    "\n",
    "The eigenphase which corresponds to the eigenstate $|\\psi\\rangle$ ($0.0$, $0.25$, $0.5$ or $0.75$).\n",
    "The returned value has to be accurate within the absolute error of 0.001.\n",
    "\n",
    "You are allowed to allocate exactly two qubits and call `Controlled U` multiple times.\n",
    "\n",
    "<br/>\n",
    "<details>\n",
    "  <summary><b>Need a hint? Click here</b></summary>\n",
    "  Start by applying the same circuit as in task 2.1.  \n",
    "  What are the possible outcomes for each eigenvalue?  \n",
    "  What eigenvalues you can and can not distinguish using this circuit?\n",
    "</details>\n",
    "\n",
    "<br/>\n",
    "<details>\n",
    "  <summary><b>Need another hint? Click here</b></summary>\n",
    "  What eigenvalues you can and can not distinguish using this circuit?\n",
    "  What circuit you can apply to distinguish them?\n",
    "</details>"
   ]
  },
  {
   "cell_type": "code",
   "execution_count": 80,
   "metadata": {},
   "outputs": [
    {
     "data": {
      "application/x-qsharp-data": "\"Success!\"",
      "text/plain": [
       "Success!"
      ]
     },
     "execution_count": 80,
     "metadata": {
      "application/x-qsharp-data": {},
      "text/plain": {}
     },
     "output_type": "execute_result"
    }
   ],
   "source": [
    "%kata T22_TwoBitPE \n",
    "\n",
    "operation TwoBitPE (U : (Qubit => Unit is Adj + Ctl), P : (Qubit => Unit is Adj)) : Double {\n",
    "    // U has 4 eigenvectors, each with +pi/2 phase\n",
    "    // Rz or R1 rotations at eigenphases 0, 0.25, 0.5, 0.75\n",
    "    let initialEigenvalue = SingleBitPE(U, P);\n",
    "    mutable comparisonEigenvalue = SingleBitPE(U, P);\n",
    "    mutable trials = 0;\n",
    "\n",
    "    repeat {\n",
    "        // Result of a measurement in the X basis. \n",
    "        // It should be consistently +1 or -1 if Z eigenstate.\n",
    "        set comparisonEigenvalue = SingleBitPE(U, P);\n",
    "        set trials += 1;\n",
    "    }\n",
    "    until (trials == 10 or comparisonEigenvalue != initialEigenvalue);\n",
    "\n",
    "    if (comparisonEigenvalue == initialEigenvalue) { \n",
    "        return initialEigenvalue == 1 ? 0.0 | 0.50;\n",
    "    }\n",
    "    else {\n",
    "        // If we ever measure a different eigenvalue, then Y eigenstate.\n",
    "        use (control, eigenstate) = (Qubit(), Qubit());\n",
    "        P(eigenstate);\n",
    "        H(control);\n",
    "        Controlled U([control], eigenstate);\n",
    "        Reset(eigenstate);\n",
    "        return MResetY(control) == Zero ? 0.25 | 0.75;\n",
    "    }\n",
    "}"
   ]
  },
  {
   "cell_type": "markdown",
   "metadata": {},
   "source": [
    "To be continued..."
   ]
  }
 ],
 "metadata": {
  "kernelspec": {
   "display_name": "Q#",
   "language": "qsharp",
   "name": "iqsharp"
  },
  "language_info": {
   "file_extension": ".qs",
   "mimetype": "text/x-qsharp",
   "name": "qsharp",
   "version": "0.26"
  }
 },
 "nbformat": 4,
 "nbformat_minor": 2
}
