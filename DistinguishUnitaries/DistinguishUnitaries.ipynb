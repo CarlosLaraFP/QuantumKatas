{
 "cells": [
  {
   "cell_type": "markdown",
   "metadata": {},
   "source": [
    "# Distinguish Unitaries Kata\n",
    "\n",
    "The **Distinguish Unitaries** quantum kata offers tasks in which you are given a unitary and have to figure out which of the list it is by designing and performing experiments on it.\n",
    "\n",
    "Each task is wrapped in one operation preceded by the description of the task.\n",
    "Your goal is to fill in the blank (marked with `// ...` comments)\n",
    "with some Q# code that solves the task. To verify your answer, run the cell using Ctrl+Enter (⌘+Enter on macOS).\n",
    "\n",
    "The tasks are given in approximate order of increasing difficulty; harder ones are marked with asterisks."
   ]
  },
  {
   "cell_type": "markdown",
   "metadata": {},
   "source": [
    "## Part I. Single-Qubit Gates"
   ]
  },
  {
   "cell_type": "markdown",
   "metadata": {},
   "source": [
    "### Task 1.1. Identity or Pauli X?\n",
    "\n",
    "**Input:** An operation that implements a single-qubit unitary transformation:\n",
    "either the identity (**I** gate)\n",
    "or the Pauli X gate (**X** gate). \n",
    "The operation will have Adjoint and Controlled variants defined.\n",
    "\n",
    "**Output:**  0 if the given operation is the **I** gate, 1 if the given operation is the **X** gate.\n",
    "\n",
    "You are allowed to apply the given operation and its adjoint/controlled variants exactly **once**."
   ]
  },
  {
   "cell_type": "code",
   "execution_count": 2,
   "metadata": {},
   "outputs": [
    {
     "data": {
      "application/x-qsharp-data": "\"Success!\"",
      "text/plain": [
       "Success!"
      ]
     },
     "execution_count": 2,
     "metadata": {
      "application/x-qsharp-data": {},
      "text/plain": {}
     },
     "output_type": "execute_result"
    }
   ],
   "source": [
    "%kata T101_DistinguishIfromX \n",
    "\n",
    "open Microsoft.Quantum.Measurement;\n",
    "\n",
    "operation DistinguishIfromX (unitary : (Qubit => Unit is Adj+Ctl)) : Int {\n",
    "    // \n",
    "    use q = Qubit();\n",
    "    unitary(q);\n",
    "    return MResetZ(q) == Zero ? 0 | 1;\n",
    "}"
   ]
  },
  {
   "cell_type": "markdown",
   "metadata": {},
   "source": [
    "*Can't come up with a solution? See the explained solution in the [Distinguish Unitaries Workbook](./Workbook_DistinguishUnitaries.ipynb#Task-1.1.-Identity-or-Pauli-X?).*"
   ]
  },
  {
   "cell_type": "markdown",
   "metadata": {},
   "source": [
    "### Task 1.2. Identity or Pauli Z?\n",
    "\n",
    "**Input:** An operation that implements a single-qubit unitary transformation:\n",
    "either the identity (**I** gate)\n",
    "or the Pauli Z gate (**Z** gate). \n",
    "The operation will have Adjoint and Controlled variants defined.\n",
    "\n",
    "**Output:**  0 if the given operation is the **I** gate, 1 if the given operation is the **Z** gate.\n",
    "\n",
    "You are allowed to apply the given operation and its adjoint/controlled variants exactly **once**."
   ]
  },
  {
   "cell_type": "code",
   "execution_count": 3,
   "metadata": {},
   "outputs": [
    {
     "data": {
      "application/x-qsharp-data": "\"Success!\"",
      "text/plain": [
       "Success!"
      ]
     },
     "execution_count": 3,
     "metadata": {
      "application/x-qsharp-data": {},
      "text/plain": {}
     },
     "output_type": "execute_result"
    }
   ],
   "source": [
    "%kata T102_DistinguishIfromZ \n",
    "\n",
    "operation DistinguishIfromZ (unitary : (Qubit => Unit is Adj+Ctl)) : Int {\n",
    "    //\n",
    "    use q = Qubit();\n",
    "    H(q);\n",
    "    unitary(q);\n",
    "    // I: nothing happens, PauliZ: local phase flip of second eigenstate\n",
    "    // Therefore, perform a measurement in the PauliX basis\n",
    "    return MResetX(q) == Zero ? 0 | 1;\n",
    "}"
   ]
  },
  {
   "cell_type": "markdown",
   "metadata": {},
   "source": [
    "*Can't come up with a solution? See the explained solution in the [Distinguish Unitaries Workbook](./Workbook_DistinguishUnitaries.ipynb#Task-1.2.-Identity-or-Pauli-Z?).*"
   ]
  },
  {
   "cell_type": "markdown",
   "metadata": {},
   "source": [
    "### Task 1.3. Z or S?\n",
    "\n",
    "**Input:** An operation that implements a single-qubit unitary transformation:\n",
    "either the **Z** gate\n",
    "or the **S** gate. \n",
    "The operation will have Adjoint and Controlled variants defined.\n",
    "\n",
    "**Output:**  0 if the given operation is the **Z** gate, 1 if the given operation is the **S** gate.\n",
    "\n",
    "You are allowed to apply the given operation and its adjoint/controlled variants at most **twice**."
   ]
  },
  {
   "cell_type": "code",
   "execution_count": 4,
   "metadata": {},
   "outputs": [
    {
     "data": {
      "application/x-qsharp-data": "\"Success!\"",
      "text/plain": [
       "Success!"
      ]
     },
     "execution_count": 4,
     "metadata": {
      "application/x-qsharp-data": {},
      "text/plain": {}
     },
     "output_type": "execute_result"
    }
   ],
   "source": [
    "%kata T103_DistinguishZfromS \n",
    "\n",
    "operation DistinguishZfromS (unitary : (Qubit => Unit is Adj+Ctl)) : Int {\n",
    "    //\n",
    "    use q = Qubit();\n",
    "    H(q);\n",
    "    unitary(q);\n",
    "    unitary(q);\n",
    "    return MResetX(q) == Zero ? 0 | 1;\n",
    "}"
   ]
  },
  {
   "cell_type": "markdown",
   "metadata": {},
   "source": [
    "*Can't come up with a solution? See the explained solution in the [Distinguish Unitaries Workbook](./Workbook_DistinguishUnitaries.ipynb#Task-1.3.-Z-or-S?).*"
   ]
  },
  {
   "cell_type": "markdown",
   "metadata": {},
   "source": [
    "### Task 1.4. Hadamard or X?\n",
    "\n",
    "**Input:** An operation that implements a single-qubit unitary transformation:\n",
    "either the Hadamard (**H**) gate\n",
    "or the **X** gate. \n",
    "The operation will have Adjoint and Controlled variants defined.\n",
    "\n",
    "**Output:**  0 if the given operation is the **H** gate, 1 if the given operation is the **X** gate.\n",
    "\n",
    "You are allowed to apply the given operation and its adjoint/controlled variants at most **twice**."
   ]
  },
  {
   "cell_type": "code",
   "execution_count": 8,
   "metadata": {
    "scrolled": true
   },
   "outputs": [
    {
     "data": {
      "application/x-qsharp-data": "\"Success!\"",
      "text/plain": [
       "Success!"
      ]
     },
     "execution_count": 8,
     "metadata": {
      "application/x-qsharp-data": {},
      "text/plain": {}
     },
     "output_type": "execute_result"
    }
   ],
   "source": [
    "%kata T104_DistinguishHfromX \n",
    "\n",
    "operation DistinguishHfromX (unitary : (Qubit => Unit is Adj+Ctl)) : Int {\n",
    "    // Keep in mind you could use more than 1 qubit, at any problem.\n",
    "    use q = Qubit();\n",
    "\n",
    "    within { unitary(q); }\n",
    "    apply { X(q); }\n",
    "\n",
    "    return MResetZ(q) == Zero ? 0 | 1;\n",
    "}"
   ]
  },
  {
   "cell_type": "markdown",
   "metadata": {},
   "source": [
    "*Can't come up with a solution? See the explained solution in the [Distinguish Unitaries Workbook](./Workbook_DistinguishUnitaries.ipynb#Task-1.4.-Hadamard-or-X?).*"
   ]
  },
  {
   "cell_type": "markdown",
   "metadata": {},
   "source": [
    "### Task 1.5. Z or $-$Z?\n",
    "\n",
    "**Input:** An operation that implements a single-qubit unitary transformation:\n",
    "either the **Z** gate\n",
    "or the minus **Z** gate (i.e., the gate $- |0\\rangle\\langle0| + |1\\rangle\\langle1|$). \n",
    "The operation will have Adjoint and Controlled variants defined.\n",
    "\n",
    "**Output:**  0 if the given operation is the **Z** gate, 1 if the given operation is the $-$**Z** gate.\n",
    "\n",
    "You are allowed to apply the given operation and its adjoint/controlled variants exactly **once**."
   ]
  },
  {
   "cell_type": "code",
   "execution_count": 13,
   "metadata": {},
   "outputs": [
    {
     "data": {
      "application/x-qsharp-data": "\"Success!\"",
      "text/plain": [
       "Success!"
      ]
     },
     "execution_count": 13,
     "metadata": {
      "application/x-qsharp-data": {},
      "text/plain": {}
     },
     "output_type": "execute_result"
    }
   ],
   "source": [
    "%kata T105_DistinguishZfromMinusZ \n",
    "\n",
    "operation DistinguishZfromMinusZ (unitary : (Qubit => Unit is Adj+Ctl)) : Int {\n",
    "    // Easy with a second qubit\n",
    "    use register = Qubit[2];\n",
    "    H(register[1]);\n",
    "    Controlled unitary(register[1..1], register[0]);\n",
    "    return MResetX(register[1]) == Zero ? 0 | 1;\n",
    "}"
   ]
  },
  {
   "cell_type": "markdown",
   "metadata": {},
   "source": [
    "*Can't come up with a solution? See the explained solution in the [Distinguish Unitaries Workbook](./Workbook_DistinguishUnitaries.ipynb#Task-1.5.-Z-or-$-$Z?).*"
   ]
  },
  {
   "cell_type": "markdown",
   "metadata": {},
   "source": [
    "### Task 1.6. Rz or R1 (arbitrary angle)?\n",
    "\n",
    "**Input:** An operation that implements a single-qubit unitary transformation:\n",
    "either the [**Rz** gate](https://docs.microsoft.com/qsharp/api/qsharp/microsoft.quantum.intrinsic.rz)\n",
    "or the [**R1** gate](https://docs.microsoft.com/qsharp/api/qsharp/microsoft.quantum.intrinsic.r1). \n",
    "\n",
    "This operation will take two parameters: the first parameter is the rotation angle, in radians, and the second parameter is the qubit to which the gate should be applied (matching normal **Rz** and **R1** gates in Q#).\n",
    "The operation will have Adjoint and Controlled variants defined.\n",
    "\n",
    "**Output:**  0 if the given operation is the **Rz** gate, 1 if the given operation is the **R1** gate.\n",
    "\n",
    "You are allowed to apply the given operation and its adjoint/controlled variants exactly **once**."
   ]
  },
  {
   "cell_type": "code",
   "execution_count": 17,
   "metadata": {},
   "outputs": [
    {
     "data": {
      "application/x-qsharp-data": "\"Success!\"",
      "text/plain": [
       "Success!"
      ]
     },
     "execution_count": 17,
     "metadata": {
      "application/x-qsharp-data": {},
      "text/plain": {}
     },
     "output_type": "execute_result"
    }
   ],
   "source": [
    "%kata T106_DistinguishRzFromR1 \n",
    "\n",
    "open Microsoft.Quantum.Math;\n",
    "\n",
    "operation DistinguishRzFromR1 (unitary : ((Double, Qubit) => Unit is Adj+Ctl)) : Int {\n",
    "    // Conjugation is also possible (HRH), followed by a measurement in the PauliZ basis\n",
    "    use qs = Qubit[2];\n",
    "    H(qs[0]);\n",
    "    // Leveraging Euler's identity\n",
    "    Controlled unitary(qs[0..0], (-2.0 * PI(), qs[1]));\n",
    "    // Rz will produce the - state, which yields One upon measurement in the PauliX basis\n",
    "    return MResetX(qs[0]) == One ? 0 | 1;\n",
    "}"
   ]
  },
  {
   "cell_type": "markdown",
   "metadata": {},
   "source": [
    "*Can't come up with a solution? See the explained solution in the [Distinguish Unitaries Workbook](./Workbook_DistinguishUnitaries.ipynb#Task-1.6.-Rz-or-R1-(arbitrary-angle)?).*"
   ]
  },
  {
   "cell_type": "markdown",
   "metadata": {},
   "source": [
    "### Task 1.7. Y or XZ?\n",
    "\n",
    "**Input:** An operation that implements a single-qubit unitary transformation:\n",
    "either the **Y** gate\n",
    "or the sequence of Pauli **Z** and Pauli **X** gates (equivalent to applying the **Z** gate followed by the **X** gate).\n",
    "The operation will have Adjoint and Controlled variants defined.\n",
    "\n",
    "**Output:**  0 if the given operation is the **Y** gate, 1 if the given operation is the **XZ** gate.\n",
    "\n",
    "You are allowed to apply the given operation and its adjoint/controlled variants at most **twice**."
   ]
  },
  {
   "cell_type": "code",
   "execution_count": 23,
   "metadata": {},
   "outputs": [
    {
     "data": {
      "application/x-qsharp-data": "\"Success!\"",
      "text/plain": [
       "Success!"
      ]
     },
     "execution_count": 23,
     "metadata": {
      "application/x-qsharp-data": {},
      "text/plain": {}
     },
     "output_type": "execute_result"
    }
   ],
   "source": [
    "%kata T107_DistinguishYfromXZ \n",
    "\n",
    "operation DistinguishYfromXZ (unitary : (Qubit => Unit is Adj+Ctl)) : Int {\n",
    "    // Both unitaries flip state + phase.\n",
    "    // Therefore, distinguishing requires Controlled with a 2-qubit register.\n",
    "    use qs = Qubit[2];\n",
    "    within { H(qs[0]); }\n",
    "    apply {\n",
    "        Controlled unitary(qs[0..0], qs[1]);\n",
    "        Controlled unitary(qs[0..0], qs[1]);\n",
    "    }\n",
    "    return MResetZ(qs[0]) == Zero ? 0 | 1;\n",
    "}"
   ]
  },
  {
   "cell_type": "markdown",
   "metadata": {},
   "source": [
    "*Can't come up with a solution? See the explained solution in the [Distinguish Unitaries Workbook](./Workbook_DistinguishUnitaries.ipynb#Task-1.7.-Y-or-XZ?).*"
   ]
  },
  {
   "cell_type": "markdown",
   "metadata": {},
   "source": [
    "### Task 1.8. Y, XZ, $-$Y or $-$XZ?\n",
    "\n",
    "**Input:** An operation that implements a single-qubit unitary transformation:\n",
    "either the **Y** gate (possibly with an extra global phase of $-1$) or the sequence of Pauli **Z** and Pauli **X** gates (possibly with an extra global phase of $-1$).\n",
    "The operation will have Adjoint and Controlled variants defined.\n",
    "\n",
    "**Output:** \n",
    "* 0 if the given operation is the **Y** gate,\n",
    "* 1 if the given operation is the $-$**XZ** gate,\n",
    "* 2 if the given operation is the $-$**Y** gate,\n",
    "* 3 if the given operation is the **XZ** gate.\n",
    "\n",
    "You are allowed to apply the given operation and its adjoint/controlled variants at most **three times**."
   ]
  },
  {
   "cell_type": "code",
   "execution_count": 27,
   "metadata": {},
   "outputs": [
    {
     "data": {
      "application/x-qsharp-data": "\"Success!\"",
      "text/plain": [
       "Success!"
      ]
     },
     "execution_count": 27,
     "metadata": {
      "application/x-qsharp-data": {},
      "text/plain": {}
     },
     "output_type": "execute_result"
    }
   ],
   "source": [
    "%kata T108_DistinguishYfromXZWithPhases \n",
    "\n",
    "open Microsoft.Quantum.Measurement;\n",
    "\n",
    "operation DistinguishYfromXZWithPhases (unitary : (Qubit => Unit is Adj+Ctl)) : Int {\n",
    "    // First distinguish Y from XZ\n",
    "    use (control, target) = (Qubit(), Qubit());\n",
    "\n",
    "    within { H(control); }\n",
    "    apply {\n",
    "        Controlled unitary([control], target);\n",
    "        Controlled unitary([control], target);\n",
    "    }\n",
    "    // Zero: Y or -Y  |  One: XZ or -XZ\n",
    "    let firstDistinction = MResetZ(control);\n",
    "\n",
    "    within { H(control); }\n",
    "    apply {\n",
    "        Controlled unitary([control], target);\n",
    "\n",
    "        if (firstDistinction == Zero) { \n",
    "            CY(control, target); \n",
    "        }\n",
    "        else {\n",
    "            CZ(control, target);\n",
    "            CNOT(control, target);\n",
    "        }\n",
    "    }\n",
    "    let secondDistinction = MResetZ(control);\n",
    "\n",
    "    return (firstDistinction == Zero ? secondDistinction == Zero ? 0 | 2\n",
    "                                     | secondDistinction == Zero ? 1 | 3);\n",
    "}"
   ]
  },
  {
   "cell_type": "markdown",
   "metadata": {},
   "source": [
    "*Can't come up with a solution? See the explained solution in the [Distinguish Unitaries Workbook](./Workbook_DistinguishUnitaries.ipynb#Task-1.8.-Y,-XZ,-$-$Y-or-$-$XZ?).*"
   ]
  },
  {
   "cell_type": "markdown",
   "metadata": {},
   "source": [
    "### Task 1.9. Rz or Ry (fixed angle)?\n",
    "\n",
    "**Inputs:** \n",
    "\n",
    "1. An angle $\\theta \\in [0.01 \\pi; 0.99 \\pi]$.\n",
    "2. An operation that implements a single-qubit unitary transformation:\n",
    "either the [$R_z(\\theta)$ gate](https://docs.microsoft.com/qsharp/api/qsharp/microsoft.quantum.intrinsic.rz)\n",
    "or the [$R_y(\\theta)$ gate](https://docs.microsoft.com/qsharp/api/qsharp/microsoft.quantum.intrinsic.ry). \n",
    "\n",
    "The operation will have Adjoint and Controlled variants defined.\n",
    "\n",
    "**Output:**  0 if the given operation is the **Rz** gate, 1 if the given operation is the **Ry** gate.\n",
    "\n",
    "You are allowed to apply the given operation and its adjoint/controlled variants **any number of times**."
   ]
  },
  {
   "cell_type": "code",
   "execution_count": 9,
   "metadata": {},
   "outputs": [
    {
     "data": {
      "application/x-qsharp-data": "[\"GetRotationsCount\"]",
      "text/html": [
       "<ul><li>GetRotationsCount</li></ul>"
      ],
      "text/plain": [
       "GetRotationsCount"
      ]
     },
     "execution_count": 9,
     "metadata": {
      "application/x-qsharp-data": {},
      "text/html": {},
      "text/plain": {}
     },
     "output_type": "execute_result"
    }
   ],
   "source": [
    "open Microsoft.Quantum.Convert;\n",
    "open Microsoft.Quantum.Math;\n",
    "\n",
    "function GetRotationsCount(angle : Double, offset : Int, accuracy : Double, pifactor : Int) : Int {\n",
    "    // Fully FP using tail recursion\n",
    "    let pimultiple = PI() * IntAsDouble(2 * pifactor + offset);\n",
    "    let times = Round(pimultiple / angle);\n",
    "    if AbsD(pimultiple - (IntAsDouble(times) * angle)) / PI() < accuracy { return times; }\n",
    "    return ComputeRepetitions(angle, offset, accuracy, pifactor + 1);\n",
    "}"
   ]
  },
  {
   "cell_type": "code",
   "execution_count": 12,
   "metadata": {
    "scrolled": true
   },
   "outputs": [
    {
     "data": {
      "application/x-qsharp-data": "\"Success!\"",
      "text/plain": [
       "Success!"
      ]
     },
     "execution_count": 12,
     "metadata": {
      "application/x-qsharp-data": {},
      "text/plain": {}
     },
     "output_type": "execute_result"
    }
   ],
   "source": [
    "%kata T109_DistinguishRzFromRy \n",
    "\n",
    "open Microsoft.Quantum.Measurement;\n",
    "\n",
    "operation DistinguishRzFromRy (theta : Double, unitary : (Qubit => Unit is Adj+Ctl)) : Int {\n",
    "    // Non-orthogonal states\n",
    "    use q = Qubit();\n",
    "    mutable result = Zero;\n",
    "    mutable trials = 1;\n",
    "    // This can be done much more efficiently (4 max attempts) by rotating the state vector n times first\n",
    "    let rotations = GetRotationsCount(theta, 1, 0.1, 0);\n",
    "    //mutable trials = Round(12000.0 / (theta / PI() * 100.0));\n",
    "    repeat {\n",
    "        // Bring the overall rotation angle closer to PI to increase probability amplitude of One\n",
    "        RepeatCA(unitary, rotations, q);\n",
    "        set result = MResetZ(q);\n",
    "    }\n",
    "    until (result == One or trials == 4)\n",
    "    fixup { set trials += 1; }\n",
    "    \n",
    "    return result == Zero ? 0 | 1;\n",
    "}"
   ]
  },
  {
   "cell_type": "markdown",
   "metadata": {},
   "source": [
    "*Can't come up with a solution? See the explained solution in the [Distinguish Unitaries Workbook](./Workbook_DistinguishUnitaries.ipynb#Task-1.9.-Rz-or-Ry-(fixed-angle)?).*"
   ]
  },
  {
   "cell_type": "markdown",
   "metadata": {},
   "source": [
    "### Task 1.10*. Rz or R1 (fixed angle)?\n",
    "\n",
    "**Inputs:** \n",
    "\n",
    "1. An angle $\\theta \\in [0.01 \\pi; 0.99 \\pi]$.\n",
    "2. An operation that implements a single-qubit unitary transformation:\n",
    "either the [$R_z(\\theta)$ gate](https://docs.microsoft.com/qsharp/api/qsharp/microsoft.quantum.intrinsic.rz)\n",
    "or the [$R_1(\\theta)$ gate](https://docs.microsoft.com/qsharp/api/qsharp/microsoft.quantum.intrinsic.r1). \n",
    "\n",
    "The operation will have Adjoint and Controlled variants defined.\n",
    "\n",
    "**Output:**  0 if the given operation is the **Rz** gate, 1 if the given operation is the **R1** gate.\n",
    "\n",
    "You are allowed to apply the given operation and its adjoint/controlled variants **any number of times**."
   ]
  },
  {
   "cell_type": "code",
   "execution_count": null,
   "metadata": {
    "scrolled": true
   },
   "outputs": [],
   "source": [
    "%kata T110_DistinguishRzFromR1WithAngle \n",
    "\n",
    "operation DistinguishRzFromR1WithAngle (theta : Double, unitary : (Qubit => Unit is Adj+Ctl)) : Int {\n",
    "    // The challenge is that these gates do not change probabilities, and do not put eigenstates into superpositions.\n",
    "    // We are also not allowed to call the gate passing theta.\n",
    "    // *** Could we use minus signs to cancel states through Ry rotations?\n",
    "    // Therefore, the starting point must be the H+ state.\n",
    "    use q = Qubit();\n",
    "    H(q);\n",
    "}"
   ]
  },
  {
   "cell_type": "markdown",
   "metadata": {},
   "source": [
    "### Task 1.11. Distinguish 4 Pauli unitaries\n",
    "\n",
    "**Input:** An operation that implements a single-qubit unitary transformation:\n",
    "either the identity (**I** gate) or one of the Pauli gates (**X**, **Y** or **Z** gate).\n",
    "The operation will have Adjoint and Controlled variants defined.\n",
    "\n",
    "**Output:** \n",
    "* 0 if the given operation is the **I** gate,\n",
    "* 1 if the given operation is the **X** gate,\n",
    "* 2 if the given operation is the **Y** gate,\n",
    "* 3 if the given operation is the **Z** gate.\n",
    "\n",
    "You are allowed to apply the given operation and its adjoint/controlled variants exactly **once**."
   ]
  },
  {
   "cell_type": "code",
   "execution_count": 13,
   "metadata": {
    "scrolled": true
   },
   "outputs": [
    {
     "data": {
      "application/x-qsharp-data": "\"Success!\"",
      "text/plain": [
       "Success!"
      ]
     },
     "execution_count": 13,
     "metadata": {
      "application/x-qsharp-data": {},
      "text/plain": {}
     },
     "output_type": "execute_result"
    }
   ],
   "source": [
    "%kata T111_DistinguishPaulis \n",
    "\n",
    "operation DistinguishPaulis (unitary : (Qubit => Unit is Adj+Ctl)) : Int {\n",
    "    // Leverage Bell basis\n",
    "    use qs = Qubit[2];\n",
    "    \n",
    "    within {\n",
    "        H(qs[0]);\n",
    "        CNOT(qs[0], qs[1]);\n",
    "    }\n",
    "    apply { unitary(qs[0]); }\n",
    "\n",
    "    // little endian\n",
    "    let result = ResultArrayAsInt(MultiM(qs));\n",
    "\n",
    "    if (result == 2) { return 1; }\n",
    "    elif (result == 3) { return 2; }\n",
    "    elif (result == 1) { return 3; }\n",
    "    else { return 0; }\n",
    "}"
   ]
  },
  {
   "cell_type": "markdown",
   "metadata": {},
   "source": [
    "*Can't come up with a solution? See the explained solution in the [Distinguish Unitaries Workbook](./Workbook_DistinguishUnitaries.ipynb#Task-1.11.-Distinguish-4-Pauli-unitaries).*"
   ]
  },
  {
   "cell_type": "markdown",
   "metadata": {},
   "source": [
    "## Part II. Multi-Qubit Gates"
   ]
  },
  {
   "cell_type": "markdown",
   "metadata": {},
   "source": [
    "### Task 2.1. $I \\otimes X$ or $\\text{CNOT}$?\n",
    "\n",
    "**Input:** An operation that implements a two-qubit unitary transformation:\n",
    "either the $I \\otimes X$ (the X gate applied to the second qubit)\n",
    "or the $\\text{CNOT}$ gate with the first qubit as control and the second qubit as target.\n",
    "* The operation will accept an array of qubits as input, but it will fail if the array is empty or has one or more than two qubits.\n",
    "* The operation will have Adjoint and Controlled variants defined.\n",
    "\n",
    "**Output:**  0 if the given operation is $I \\otimes X$, 1 if the given operation is the $\\text{CNOT}$ gate.\n",
    "\n",
    "You are allowed to apply the given operation and its adjoint/controlled variants exactly **once**."
   ]
  },
  {
   "cell_type": "code",
   "execution_count": null,
   "metadata": {},
   "outputs": [],
   "source": [
    "%kata T201_DistinguishIXfromCNOT\n",
    "\n",
    "operation DistinguishIXfromCNOT (unitary : (Qubit[] => Unit is Adj+Ctl)) : Int {\n",
    "    // ...\n",
    "    return -1;\n",
    "}"
   ]
  },
  {
   "cell_type": "markdown",
   "metadata": {},
   "source": [
    "*Can't come up with a solution? See the explained solution in the [Distinguish Unitaries Workbook](./Workbook_DistinguishUnitaries.ipynb#Task-2.1.-$I-\\otimes-X$-or-$\\text{CNOT}$?).*"
   ]
  },
  {
   "cell_type": "markdown",
   "metadata": {},
   "source": [
    "### Task 2.2. Figure out the direction of $\\text{CNOT}$\n",
    "\n",
    "**Input:** An operation that implements a two-qubit unitary transformation:\n",
    "either the $\\text{CNOT}$ gate with the first qubit as control and the second qubit as target ($\\text{CNOT}_{12}$)\n",
    "or the $\\text{CNOT}$ gate with the second qubit as control and the first qubit as target ($\\text{CNOT}_{21}$).\n",
    "* The operation will accept an array of qubits as input, but it will fail if the array is empty or has one or more than two qubits.\n",
    "* The operation will have Adjoint and Controlled variants defined.\n",
    "\n",
    "**Output:**  0 if the given operation is $\\text{CNOT}_{12}$, 1 if the given operation is $\\text{CNOT}_{21}$.\n",
    "\n",
    "You are allowed to apply the given operation and its adjoint/controlled variants exactly **once**."
   ]
  },
  {
   "cell_type": "code",
   "execution_count": null,
   "metadata": {
    "scrolled": true
   },
   "outputs": [],
   "source": [
    "%kata T202_CNOTDirection\n",
    "\n",
    "operation CNOTDirection (unitary : (Qubit[] => Unit is Adj+Ctl)) : Int {\n",
    "    // ...\n",
    "    return -1;\n",
    "}"
   ]
  },
  {
   "cell_type": "markdown",
   "metadata": {},
   "source": [
    "*Can't come up with a solution? See the explained solution in the [Distinguish Unitaries Workbook](./Workbook_DistinguishUnitaries.ipynb#Task-2.2.-Figure-out-the-direction-of-$\\text{CNOT}$).*"
   ]
  },
  {
   "cell_type": "markdown",
   "metadata": {},
   "source": [
    "### Task 2.3. $\\text{CNOT}_{12}$ or $\\text{SWAP}$?\n",
    "\n",
    "**Input:** An operation that implements a two-qubit unitary transformation:\n",
    "either the $\\text{CNOT}$ gate with the first qubit as control and the second qubit as target ($\\text{CNOT}_{12}$)\n",
    "or the $SWAP$ gate.\n",
    "* The operation will accept an array of qubits as input, but it will fail if the array is empty or has one or more than two qubits.\n",
    "* The operation will have Adjoint and Controlled variants defined.\n",
    "\n",
    "**Output:**  0 if the given operation is $\\text{CNOT}_{12}$, 1 if the given operation is $\\text{SWAP}$.\n",
    "\n",
    "You are allowed to apply the given operation and its adjoint/controlled variants exactly **once**."
   ]
  },
  {
   "cell_type": "code",
   "execution_count": null,
   "metadata": {
    "scrolled": false
   },
   "outputs": [],
   "source": [
    "%kata T203_DistinguishCNOTfromSWAP\n",
    "\n",
    "operation DistinguishCNOTfromSWAP (unitary : (Qubit[] => Unit is Adj+Ctl)) : Int {\n",
    "    // ...\n",
    "    return -1;\n",
    "}"
   ]
  },
  {
   "cell_type": "markdown",
   "metadata": {},
   "source": [
    "*Can't come up with a solution? See the explained solution in the [Distinguish Unitaries Workbook](./Workbook_DistinguishUnitaries.ipynb#Task-2.3.-$\\text{CNOT}_{12}$-or-$\\text{SWAP}$?).*"
   ]
  },
  {
   "cell_type": "markdown",
   "metadata": {},
   "source": [
    "### Task 2.4. Identity, $\\text{CNOT}$s or $\\text{SWAP}$?\n",
    "\n",
    "**Input:** An operation that implements a two-qubit unitary transformation:\n",
    "either the identity ($I \\otimes I$), the $\\text{CNOT}$ gate with one of the qubits as control and the other qubit as a target, \n",
    "or the $SWAP$ gate.\n",
    "* The operation will accept an array of qubits as input, but it will fail if the array is empty or has one or more than two qubits.\n",
    "* The operation will have Adjoint and Controlled variants defined.\n",
    "\n",
    "**Output:**  \n",
    "\n",
    "* 0 if the given operation is $I \\otimes I$, \n",
    "* 1 if the given operation is $\\text{CNOT}_{12}$,\n",
    "* 2 if the given operation is $\\text{CNOT}_{21}$,\n",
    "* 3 if the given operation is $\\text{SWAP}$.\n",
    "\n",
    "You are allowed to apply the given operation and its adjoint/controlled variants at most **twice**."
   ]
  },
  {
   "cell_type": "code",
   "execution_count": null,
   "metadata": {
    "scrolled": false
   },
   "outputs": [],
   "source": [
    "%kata T204_DistinguishTwoQubitUnitaries\n",
    "\n",
    "operation DistinguishTwoQubitUnitaries (unitary : (Qubit[] => Unit is Adj+Ctl)) : Int {\n",
    "    // ...\n",
    "    return -1;\n",
    "}"
   ]
  },
  {
   "cell_type": "markdown",
   "metadata": {},
   "source": [
    "*Can't come up with a solution? See the explained solution in the [Distinguish Unitaries Workbook](./Workbook_DistinguishUnitaries.ipynb#Task-2.4.-Identity,-$\\text{CNOT}$s-or-$\\text{SWAP}$?).*"
   ]
  }
 ],
 "metadata": {
  "kernelspec": {
   "display_name": "Q#",
   "language": "qsharp",
   "name": "iqsharp"
  },
  "language_info": {
   "file_extension": ".qs",
   "mimetype": "text/x-qsharp",
   "name": "qsharp",
   "version": "0.26"
  }
 },
 "nbformat": 4,
 "nbformat_minor": 2
}
